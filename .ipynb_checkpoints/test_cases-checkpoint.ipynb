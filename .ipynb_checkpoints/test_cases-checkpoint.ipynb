{
 "cells": [
  {
   "cell_type": "code",
   "execution_count": 56,
   "metadata": {},
   "outputs": [],
   "source": [
    "import sqlite3\n",
    "db = sqlite3.connect('IdleTycoon.db')\n",
    "con = db.execute(\"select * from customer_record\")"
   ]
  },
  {
   "cell_type": "code",
   "execution_count": 58,
   "metadata": {},
   "outputs": [],
   "source": [
    "def test(name):\n",
    "    result = db.execute(\"select * from customer_record\")\n",
    "        #if remaining > 0:\n",
    "            #print(\"inside remaining\")\n",
    "        #self.balance = remaining\n",
    "            #data = [name, cost, (self.balance)]\n",
    " \n",
    "\n",
    "    for store in result:\n",
    "        print(\"inside result \"+store[0])\n",
    "\n",
    "        if store[0] == name:\n",
    "            print(\"name is: \"+store[0])\n",
    "            count = db.execute(\"select store_count from customer_record where store_name== '%s'\" % name).fetchall()[0][0]\n",
    "            count += 1\n",
    "            update_query = (0, count, name)\n",
    "            db.execute(\"update customer_record set balance = ?, store_count =? where store_name = ?\", update_query)                \n",
    "            db.commit()\n",
    "\n",
    "\n",
    "        else:\n",
    "            print(\"in else loop\")\n",
    "            data = [name, 1, 1, 1]\n",
    "            db.execute(\"insert into customer_record values(?,?,?,?)\", data)\n",
    "            db.commit()\n",
    "            \n"
   ]
  },
  {
   "cell_type": "code",
   "execution_count": 64,
   "metadata": {},
   "outputs": [
    {
     "name": "stdout",
     "output_type": "stream",
     "text": [
      "inside result dummy\n",
      "in else loop\n",
      "inside result ice cream\n",
      "name is: ice cream\n",
      "inside result ice cream\n",
      "name is: ice cream\n",
      "inside result ice cream\n",
      "name is: ice cream\n",
      "inside result ice cream\n",
      "name is: ice cream\n"
     ]
    }
   ],
   "source": [
    "test('ice cream')"
   ]
  },
  {
   "cell_type": "code",
   "execution_count": 74,
   "metadata": {},
   "outputs": [
    {
     "name": "stdout",
     "output_type": "stream",
     "text": [
      "dummy\n",
      "ice cream\n",
      "hi\n",
      "ice cream\n",
      "hi\n",
      "ice cream\n",
      "hi\n",
      "ice cream\n",
      "hi\n"
     ]
    }
   ],
   "source": [
    "result = db.execute(\"select * from customer_record\")\n",
    "for i in result:\n",
    "    print(i[0])\n",
    "    if i[0] == 'ice cream':\n",
    "        print(\"hi\")\n",
    "    "
   ]
  },
  {
   "cell_type": "code",
   "execution_count": 51,
   "metadata": {},
   "outputs": [
    {
     "data": {
      "text/plain": [
       "['dummy', 'ice cream', 'ice cream', 'ice cream']"
      ]
     },
     "execution_count": 51,
     "metadata": {},
     "output_type": "execute_result"
    }
   ],
   "source": [
    "arr"
   ]
  },
  {
   "cell_type": "code",
   "execution_count": 54,
   "metadata": {},
   "outputs": [],
   "source": [
    "db.close()"
   ]
  },
  {
   "cell_type": "code",
   "execution_count": 57,
   "metadata": {},
   "outputs": [
    {
     "ename": "OperationalError",
     "evalue": "database table is locked",
     "output_type": "error",
     "traceback": [
      "\u001b[1;31m---------------------------------------------------------------------------\u001b[0m",
      "\u001b[1;31mOperationalError\u001b[0m                          Traceback (most recent call last)",
      "\u001b[1;32m<ipython-input-57-dee84639f4a9>\u001b[0m in \u001b[0;36m<module>\u001b[1;34m()\u001b[0m\n\u001b[1;32m----> 1\u001b[1;33m \u001b[0mdb\u001b[0m\u001b[1;33m.\u001b[0m\u001b[0mexecute\u001b[0m\u001b[1;33m(\u001b[0m\u001b[1;34m'drop table customer_record'\u001b[0m\u001b[1;33m)\u001b[0m\u001b[1;33m\u001b[0m\u001b[0m\n\u001b[0m\u001b[0;32m      2\u001b[0m \u001b[0mdb\u001b[0m\u001b[1;33m.\u001b[0m\u001b[0mcommit\u001b[0m\u001b[1;33m(\u001b[0m\u001b[1;33m)\u001b[0m\u001b[1;33m\u001b[0m\u001b[0m\n",
      "\u001b[1;31mOperationalError\u001b[0m: database table is locked"
     ]
    }
   ],
   "source": [
    "db.execute('drop table customer_record')\n",
    "db.commit()"
   ]
  },
  {
   "cell_type": "code",
   "execution_count": null,
   "metadata": {},
   "outputs": [],
   "source": []
  },
  {
   "cell_type": "code",
   "execution_count": null,
   "metadata": {},
   "outputs": [],
   "source": []
  },
  {
   "cell_type": "code",
   "execution_count": null,
   "metadata": {},
   "outputs": [],
   "source": []
  },
  {
   "cell_type": "code",
   "execution_count": null,
   "metadata": {},
   "outputs": [],
   "source": []
  }
 ],
 "metadata": {
  "kernelspec": {
   "display_name": "tensorflow",
   "language": "python",
   "name": "tensorflowproject"
  },
  "language_info": {
   "codemirror_mode": {
    "name": "ipython",
    "version": 3
   },
   "file_extension": ".py",
   "mimetype": "text/x-python",
   "name": "python",
   "nbconvert_exporter": "python",
   "pygments_lexer": "ipython3",
   "version": "3.5.6"
  }
 },
 "nbformat": 4,
 "nbformat_minor": 4
}
