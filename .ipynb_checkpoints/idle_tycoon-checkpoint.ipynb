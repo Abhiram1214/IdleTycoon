{
 "cells": [
  {
   "cell_type": "code",
   "execution_count": null,
   "metadata": {},
   "outputs": [],
   "source": []
  },
  {
   "cell_type": "code",
   "execution_count": 11,
   "metadata": {},
   "outputs": [],
   "source": [
    "from datetime import datetime\n"
   ]
  },
  {
   "cell_type": "code",
   "execution_count": 17,
   "metadata": {},
   "outputs": [],
   "source": [
    "class Person:\n",
    "    now = datetime.now()\n",
    "\n",
    "    def __init__(self, name, surname, dob):\n",
    "        self.name = name\n",
    "        self.surname = surname\n",
    "        self.dob = dob\n",
    "        \n",
    "    def age(self, current_year):\n",
    "        return current_year - self.dob\n",
    "        "
   ]
  },
  {
   "cell_type": "code",
   "execution_count": 18,
   "metadata": {},
   "outputs": [
    {
     "data": {
      "text/plain": [
       "'A'"
      ]
     },
     "execution_count": 18,
     "metadata": {},
     "output_type": "execute_result"
    }
   ],
   "source": [
    "s = Person('A', 'C', 1988)\n",
    "s.name"
   ]
  },
  {
   "cell_type": "code",
   "execution_count": 20,
   "metadata": {},
   "outputs": [
    {
     "data": {
      "text/plain": [
       "32"
      ]
     },
     "execution_count": 20,
     "metadata": {},
     "output_type": "execute_result"
    }
   ],
   "source": [
    "s.age(now.year)"
   ]
  },
  {
   "cell_type": "code",
   "execution_count": null,
   "metadata": {},
   "outputs": [],
   "source": []
  },
  {
   "cell_type": "code",
   "execution_count": 15,
   "metadata": {},
   "outputs": [
    {
     "name": "stdout",
     "output_type": "stream",
     "text": [
      "class A\n",
      "class B\n",
      "<class 'str'>\n"
     ]
    }
   ],
   "source": [
    "'''\n",
    "class Store:\n",
    "    Money = 5.00\n",
    "    Day = 1\n",
    "    \n",
    "    def __init__(self, storename, storecost, storecount, storeprofit):\n",
    "        self.store_name = storename\n",
    "        self.store_cost = storecost\n",
    "        self.store_count = storecount\n",
    "        self.store_profit = storeprofit\n",
    "                \n",
    "    def DisplayBalance(self, money):\n",
    "        return 'The current balance is ${}'.format(money)\n",
    "        \n",
    "    def NextDay(self):\n",
    "        Store.Day += 1\n",
    "        self.store_profit = (self.store_profit + Store.Day)\n",
    "        Store.Money += self.store_profit\n",
    "        \n",
    "        print(self.DisplayBalance(Store.Money))\n",
    "        \n",
    "'''\n",
    "\n",
    "\n",
    "#multiple inhertiance\n",
    "class A:\n",
    "    def __init__(self, x,y):\n",
    "        self.x = x\n",
    "        self.y = y\n",
    "        \n",
    "    def test(self):\n",
    "        print('class A')\n",
    "        \n",
    "        \n",
    "class B:\n",
    "    def __init__(self, a,b):\n",
    "        self.a = a\n",
    "        self.b = b\n",
    "        \n",
    "    def test(self):\n",
    "        print('class B')\n",
    "        \n",
    "class C(A, B):\n",
    "    obja = A('h','h')\n",
    "    objb = B('h',5)\n",
    "    \n",
    "    obja.test()\n",
    "    objb.test()\n",
    "    \n",
    "    print(type(objb.b.__str__()))"
   ]
  },
  {
   "cell_type": "code",
   "execution_count": null,
   "metadata": {},
   "outputs": [],
   "source": []
  },
  {
   "cell_type": "code",
   "execution_count": null,
   "metadata": {},
   "outputs": [],
   "source": []
  },
  {
   "cell_type": "code",
   "execution_count": 21,
   "metadata": {},
   "outputs": [],
   "source": [
    "import sqlite3\n",
    "import pandas as pd\n",
    "\n",
    "class Money:\n",
    "    def __init__(self):\n",
    "        self.money = 50.00\n",
    "        self.day = 1\n",
    "\n",
    "\n",
    "class Store(Money):\n",
    "       \n",
    "    def __init__(self, *args):\n",
    "        super(Store, self).__init__(*args)\n",
    "        self.balance = self.money\n",
    "        self.connection = sqlite3.connect('IdleTycoon.db')\n",
    "        self.cur = self.connection.cursor()\n",
    "\n",
    "        \n",
    "    def create_store(self, storename, storecost, storeprofit):\n",
    "        print(\"\\n saving....\")\n",
    "        self.store_name = storename\n",
    "        self.store_cost = storecost\n",
    "        self.store_profit = storeprofit\n",
    "        \n",
    "        data = [(self.store_name), (self.store_cost), (self.store_profit), (self.balance)]\n",
    "        self.cur.execute('create table if not exists stores_info(store_name text, store_cost float, store_profit float, balance float)')\n",
    "        self.cur.execute(\"insert into stores_info values(?,?,?,?)\", data)\n",
    "        self.connection.commit()\n",
    "        print(\"Saved successfully...\\n\")\n",
    "      \n",
    "    \n",
    "    \n",
    "    def CreatePersonalRecord(self, name, cost):\n",
    "        remaining = self.balance - cost        \n",
    "        \n",
    "        self.cur.execute('create table if not exists customer_record(store_name text, store_cost float, balance float, store_count int)')\n",
    "        self.cur.execute(\"select store_name from customer_record where store_name == '%s'\" % name)\n",
    "        result = self.cur.fetchone()\n",
    "        \n",
    "        if remaining > 0:\n",
    "            self.balance = remaining\n",
    "            \n",
    "            if result:\n",
    "                count = self.cur.execute(\"select store_count from customer_record where store_name == '%s'\" % name).fetchall()[0][0]\n",
    "                count += 1\n",
    "                update_query = ((self.balance), count, name)\n",
    "                self.cur.execute(\"update customer_record set balance = ?, store_count =? where store_name = ?\", update_query)                \n",
    "                self.connection.commit()\n",
    "            else:\n",
    "                data = [name, cost, (self.balance), 1]\n",
    "                self.cur.execute(\"insert into customer_record values(?,?,?,?)\", data)\n",
    "                self.connection.commit()\n",
    "\n",
    "    def DisplayCustomerRecords(self):\n",
    "        query = \"select * from customer_record\"\n",
    "        cursor = self.cur.execute(query)\n",
    "        show_records = pd.DataFrame(cursor, columns=[x[0] for x in cursor.description])\n",
    "        print(show_records)\n",
    "        \n",
    "    def DisplayStores(self):\n",
    "        print(\"The cost and profit information for each store \\n\")\n",
    "        query = 'select * from stores_info'\n",
    "        cursor = self.cur.execute(query)\n",
    "        show_stores = pd.DataFrame(cursor, columns=[x[0] for x in cursor.description])\n",
    "        print(show_stores)          \n",
    "    \n",
    "    \n",
    "    def SelectStore(self):\n",
    "        while True:\n",
    "            print(\"1 for ice cream. 2 for lemon stand. 3 for book store. 0 to quit \\n\")\n",
    "            buy = int(input(\"which store you want to buy\"))\n",
    "            self.DisplayStores()\n",
    "            print(\"--------------\")\n",
    "            print(\"Total Balance is: {}\".format(self.balance))\n",
    "            print(\"----------------\")\n",
    "            \n",
    "            if buy != 0:\n",
    "                self.SaveData()\n",
    "                self.BuyStore(buy)\n",
    "                \n",
    "            else:\n",
    "                print(\"\\n\\n\\n\")\n",
    "                print(\"--\"*20)\n",
    "                print(\"The current stores in your account are: \")\n",
    "                print(\"--\"*20)\n",
    "                self.DisplayCustomerRecords()\n",
    "                print(\"\\n\")\n",
    "                print(\"Current Balance: \")\n",
    "                self.DisplayBalance()\n",
    "                break\n",
    "                \n",
    "    def BuyStore(self, buy):\n",
    "        #query = \"select * from stores_info where store_name == \"\n",
    "        if buy == 1:\n",
    "            ice_cream = \"select * from stores_info where store_name == 'ice cream'\"\n",
    "            results = self.cur.execute(ice_cream)\n",
    "            for i in results:\n",
    "                self.CreatePersonalRecord(i[0], i[1])\n",
    "        elif buy == 2:\n",
    "            lemon_stand = \"select * from stores_info where store_name == 'lemon stand'\"\n",
    "            results = self.cur.execute(lemon_stand)\n",
    "            for i in results:\n",
    "                self.CreatePersonalRecord(i[0], i[1])\n",
    "        else:\n",
    "            print(\"book store triggered...\")\n",
    "            book_store = \"select * from stores_info where store_name == 'book store'\"\n",
    "            results = self.cur.execute(book_store)\n",
    "            for i in results:\n",
    "                self.CreatePersonalRecord(i[0], i[1])        \n",
    "        \n",
    "    \n",
    "        \n",
    "    def DisplayBalance(self):\n",
    "        print('The current balance is ${}'.format(self.balance))\n",
    "        \n",
    "    def NextDay(self):\n",
    "        self.balance = self.balance + self.store_profit\n",
    "        \n",
    "  \n",
    "    def UpdateDatabase(self):\n",
    "        print(self.store_name)\n",
    "        data = [(self.store_name), (self.store_cost), (self.store_count), (self.store_profit), (self.balance)]\n",
    "        self.cur.execute(\"insert into stores_info values(?,?,?,?,?)\", data)\n",
    "        self.connection.commit()\n",
    "    \n",
    "    def DropTable(self):\n",
    "        self.cur.execute(\"drop table customer_record\")\n",
    "        self.connection.commit()\n",
    "        \n",
    "        self.cur.execute('create table if not exists customer_record(store_name text, store_cost float, balance float, store_count int)')\n",
    "        self.cur.execute(\"insert into customer_record values('dummy', 0, 0, 0)\")\n",
    "        self.connection.commit()\n",
    "        \n",
    "    def CloseDatabase(self):\n",
    "        self.connection.close()\n",
    "\n",
    "        \n",
    "    def SaveData(self):\n",
    "        self.connection.commit()\n",
    "        print(\"data saved....\")\n",
    "        \n",
    "    def NewStore(self):\n",
    "        while True:\n",
    "            try: \n",
    "                name = input(\"Enter the store name: \")\n",
    "                cost = float(input(\"Enter the store cost: \"))\n",
    "                profit = float(input(\"Enter the store profit: \"))\n",
    "            except:\n",
    "                print(\"Name should be a string. Cost and profit are float values\")\n",
    "            else:\n",
    "                s.create_store(name, cost, profit)\n",
    "                print(\"----------------\")\n",
    "                s.DisplayStores()\n",
    "            finally:\n",
    "                print('command executed...')\n",
    "                break\n",
    "\n"
   ]
  },
  {
   "cell_type": "code",
   "execution_count": null,
   "metadata": {},
   "outputs": [],
   "source": [
    "if __init__==__min__():\n",
    "    "
   ]
  },
  {
   "cell_type": "code",
   "execution_count": 22,
   "metadata": {},
   "outputs": [],
   "source": [
    "s = Store()"
   ]
  },
  {
   "cell_type": "code",
   "execution_count": null,
   "metadata": {},
   "outputs": [],
   "source": []
  },
  {
   "cell_type": "code",
   "execution_count": 23,
   "metadata": {},
   "outputs": [
    {
     "name": "stdout",
     "output_type": "stream",
     "text": [
      "1 for ice cream. 2 for lemon stand. 3 for book store. 0 to quit \n",
      "\n",
      "which store you want to buy0\n",
      "The cost and profit information for each store \n",
      "\n",
      "    store_name  store_cost  store_profit  balance\n",
      "0    ice cream         2.0           2.0      5.0\n",
      "1  lemon stand         1.0           1.0      5.0\n",
      "2   book store         2.0           1.0      5.0\n",
      "--------------\n",
      "Total Balance is: 50.0\n",
      "----------------\n",
      "\n",
      "\n",
      "\n",
      "\n",
      "----------------------------------------\n",
      "The current stores in your account are: \n",
      "----------------------------------------\n",
      "    store_name  store_cost  balance  store_count\n",
      "0    ice cream         2.0     48.0            3\n",
      "1  lemon stand         1.0     47.0            1\n",
      "\n",
      "\n",
      "Current Balance: \n",
      "The current balance is $50.0\n"
     ]
    }
   ],
   "source": [
    "s.SelectStore()"
   ]
  },
  {
   "cell_type": "code",
   "execution_count": null,
   "metadata": {},
   "outputs": [],
   "source": []
  },
  {
   "cell_type": "code",
   "execution_count": null,
   "metadata": {},
   "outputs": [],
   "source": []
  },
  {
   "cell_type": "code",
   "execution_count": null,
   "metadata": {},
   "outputs": [],
   "source": []
  },
  {
   "cell_type": "code",
   "execution_count": null,
   "metadata": {},
   "outputs": [],
   "source": []
  },
  {
   "cell_type": "code",
   "execution_count": 4,
   "metadata": {},
   "outputs": [],
   "source": [
    "con = sqlite3.connect('IdleTycoon.db')"
   ]
  },
  {
   "cell_type": "code",
   "execution_count": 103,
   "metadata": {},
   "outputs": [],
   "source": [
    "name = 'ice cream'\n",
    "s = db.execute(\"select store_count from customer_record where store_name== '%s'\" % name).fetchall()[0][0]"
   ]
  },
  {
   "cell_type": "code",
   "execution_count": 116,
   "metadata": {},
   "outputs": [],
   "source": [
    "con.close()"
   ]
  },
  {
   "cell_type": "code",
   "execution_count": 95,
   "metadata": {},
   "outputs": [
    {
     "name": "stdout",
     "output_type": "stream",
     "text": [
      "(1,)\n",
      "(1,)\n"
     ]
    }
   ],
   "source": [
    "for i in h:\n",
    "    print(i)"
   ]
  },
  {
   "cell_type": "code",
   "execution_count": 58,
   "metadata": {},
   "outputs": [],
   "source": [
    "t = 'ice cream'\n",
    "h = con.execute(\"select * from stores_info where store_name== '%s'\" % t)"
   ]
  },
  {
   "cell_type": "code",
   "execution_count": 59,
   "metadata": {},
   "outputs": [
    {
     "name": "stdout",
     "output_type": "stream",
     "text": [
      "<class 'str'>\n"
     ]
    }
   ],
   "source": [
    "for i in h:\n",
    "    print(type(i[0]))"
   ]
  },
  {
   "cell_type": "code",
   "execution_count": 8,
   "metadata": {},
   "outputs": [
    {
     "name": "stdout",
     "output_type": "stream",
     "text": [
      "Empty DataFrame\n",
      "Columns: [store_name, store_cost, balance, store_count]\n",
      "Index: []\n"
     ]
    }
   ],
   "source": [
    "s.DisplayCustomerRecords()"
   ]
  },
  {
   "cell_type": "code",
   "execution_count": null,
   "metadata": {},
   "outputs": [],
   "source": []
  },
  {
   "cell_type": "code",
   "execution_count": null,
   "metadata": {},
   "outputs": [],
   "source": []
  },
  {
   "cell_type": "code",
   "execution_count": 20,
   "metadata": {},
   "outputs": [],
   "source": []
  },
  {
   "cell_type": "code",
   "execution_count": 21,
   "metadata": {},
   "outputs": [
    {
     "name": "stdout",
     "output_type": "stream",
     "text": [
      "('ice cream', 2.0, 2.0, 5.0)\n"
     ]
    }
   ],
   "source": []
  },
  {
   "cell_type": "code",
   "execution_count": null,
   "metadata": {},
   "outputs": [],
   "source": []
  },
  {
   "cell_type": "code",
   "execution_count": null,
   "metadata": {},
   "outputs": [],
   "source": []
  },
  {
   "cell_type": "code",
   "execution_count": null,
   "metadata": {},
   "outputs": [],
   "source": []
  },
  {
   "cell_type": "code",
   "execution_count": null,
   "metadata": {},
   "outputs": [],
   "source": [
    "def CreatePersonalRecord(self, name, cost):\n",
    "        print(\"hello\")\n",
    "        remaining = self.balance - cost\n",
    "        \n",
    "        if remaining > 0:\n",
    "            self.balance = remaining\n",
    "            #data = [name, cost, (self.balance)]\n",
    "            self.connection.execute('create table if not exists customer_record(store_name text, store_cost float, balance float, store_count int)')\n",
    "            result = self.connection.execute(\"select * from customer_record\")\n",
    "            print(name)\n",
    "            try:\n",
    "                for store in result:\n",
    "                    if store[0] == name:\n",
    "                        print(\"name matched\")\n",
    "                        count = self.connection.execute(\"select * from stores_info where store_name== '%s'\" % name)\n",
    "                        print(count)\n",
    "                        count += 1\n",
    "                        data = [name, cost, (self.balance), count]\n",
    "                        self.connection.execute(\"insert into customer_record values(?,?,?,?)\", data)\n",
    "\n",
    "                    else:\n",
    "                        data = [name, cost, (self.balance), 1]\n",
    "                        self.connection.execute(\"insert into customer_record values(?,?,?,?)\", data)\n",
    "            except:\n",
    "                print(\"issue within the data search\")\n",
    "            self.connection.commit()\n",
    "                    \n",
    "            \n",
    "        else:\n",
    "            print(\"Insufficient Balance: {}\".format(self.balance))\n",
    "            print(\"Required amount is ${} \".format(remaining))\n",
    "    "
   ]
  },
  {
   "cell_type": "code",
   "execution_count": null,
   "metadata": {},
   "outputs": [],
   "source": []
  },
  {
   "cell_type": "code",
   "execution_count": null,
   "metadata": {},
   "outputs": [],
   "source": []
  },
  {
   "cell_type": "code",
   "execution_count": null,
   "metadata": {},
   "outputs": [],
   "source": []
  },
  {
   "cell_type": "code",
   "execution_count": null,
   "metadata": {},
   "outputs": [],
   "source": []
  }
 ],
 "metadata": {
  "kernelspec": {
   "display_name": "tensorflow",
   "language": "python",
   "name": "tensorflowproject"
  },
  "language_info": {
   "codemirror_mode": {
    "name": "ipython",
    "version": 3
   },
   "file_extension": ".py",
   "mimetype": "text/x-python",
   "name": "python",
   "nbconvert_exporter": "python",
   "pygments_lexer": "ipython3",
   "version": "3.5.6"
  }
 },
 "nbformat": 4,
 "nbformat_minor": 2
}
