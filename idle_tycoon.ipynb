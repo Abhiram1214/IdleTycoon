{
 "cells": [
  {
   "cell_type": "code",
   "execution_count": 1,
   "metadata": {},
   "outputs": [
    {
     "name": "stderr",
     "output_type": "stream",
     "text": [
      "C:\\Users\\cvenkatanagasatya\\AppData\\Local\\Continuum\\anaconda3\\envs\\tensorflowproject\\lib\\site-packages\\gensim\\utils.py:1197: UserWarning: detected Windows; aliasing chunkize to chunkize_serial\n",
      "  warnings.warn(\"detected Windows; aliasing chunkize to chunkize_serial\")\n"
     ]
    }
   ],
   "source": [
    "from gensim.test.utils import common_texts, get_tmpfile"
   ]
  },
  {
   "cell_type": "code",
   "execution_count": 18,
   "metadata": {},
   "outputs": [
    {
     "name": "stderr",
     "output_type": "stream",
     "text": [
      "C:\\Users\\cvenkatanagasatya\\AppData\\Local\\Continuum\\anaconda3\\envs\\tensorflowproject\\lib\\site-packages\\smart_open\\smart_open_lib.py:402: UserWarning: This function is deprecated, use smart_open.open instead. See the migration notes for details: https://github.com/RaRe-Technologies/smart_open/blob/master/README.rst#migrating-to-the-new-open-function\n",
      "  'See the migration notes for details: %s' % _MIGRATION_NOTES_URL\n"
     ]
    }
   ],
   "source": [
    "from gensim.models import Word2Vec\n",
    "\n",
    "path = get_tmpfile(\"word2vec.model\")\n",
    "\n",
    "model = Word2Vec(common_texts, window=5, min_count=1, workers=4)\n",
    "model.save(\"word2vec.model\")"
   ]
  },
  {
   "cell_type": "code",
   "execution_count": 19,
   "metadata": {},
   "outputs": [
    {
     "name": "stderr",
     "output_type": "stream",
     "text": [
      "C:\\Users\\cvenkatanagasatya\\AppData\\Local\\Continuum\\anaconda3\\envs\\tensorflowproject\\lib\\site-packages\\smart_open\\smart_open_lib.py:402: UserWarning: This function is deprecated, use smart_open.open instead. See the migration notes for details: https://github.com/RaRe-Technologies/smart_open/blob/master/README.rst#migrating-to-the-new-open-function\n",
      "  'See the migration notes for details: %s' % _MIGRATION_NOTES_URL\n"
     ]
    }
   ],
   "source": [
    "model = Word2Vec.load('word2vec.model')"
   ]
  },
  {
   "cell_type": "code",
   "execution_count": 20,
   "metadata": {},
   "outputs": [],
   "source": [
    "word_vectors = model.wv"
   ]
  },
  {
   "cell_type": "code",
   "execution_count": 17,
   "metadata": {},
   "outputs": [
    {
     "name": "stdout",
     "output_type": "stream",
     "text": [
      "s\n"
     ]
    }
   ],
   "source": [
    "if 'computer' in word_vectors.vocab:\n",
    "    print('s')"
   ]
  },
  {
   "cell_type": "code",
   "execution_count": 21,
   "metadata": {},
   "outputs": [
    {
     "data": {
      "text/plain": [
       "{'computer': <gensim.models.keyedvectors.Vocab at 0x1f972d95e80>,\n",
       " 'eps': <gensim.models.keyedvectors.Vocab at 0x1f972d95cf8>,\n",
       " 'graph': <gensim.models.keyedvectors.Vocab at 0x1f972d95e48>,\n",
       " 'human': <gensim.models.keyedvectors.Vocab at 0x1f972d95eb8>,\n",
       " 'interface': <gensim.models.keyedvectors.Vocab at 0x1f972d95fd0>,\n",
       " 'minors': <gensim.models.keyedvectors.Vocab at 0x1f972d95dd8>,\n",
       " 'response': <gensim.models.keyedvectors.Vocab at 0x1f972d95f98>,\n",
       " 'survey': <gensim.models.keyedvectors.Vocab at 0x1f972d95e10>,\n",
       " 'system': <gensim.models.keyedvectors.Vocab at 0x1f972d9d048>,\n",
       " 'time': <gensim.models.keyedvectors.Vocab at 0x1f972d95f28>,\n",
       " 'trees': <gensim.models.keyedvectors.Vocab at 0x1f972d95f60>,\n",
       " 'user': <gensim.models.keyedvectors.Vocab at 0x1f972d95ef0>}"
      ]
     },
     "execution_count": 21,
     "metadata": {},
     "output_type": "execute_result"
    }
   ],
   "source": [
    "Word2Vec.voc"
   ]
  },
  {
   "cell_type": "code",
   "execution_count": null,
   "metadata": {},
   "outputs": [],
   "source": []
  },
  {
   "cell_type": "code",
   "execution_count": null,
   "metadata": {},
   "outputs": [],
   "source": []
  },
  {
   "cell_type": "code",
   "execution_count": 11,
   "metadata": {},
   "outputs": [],
   "source": [
    "from datetime import datetime\n"
   ]
  },
  {
   "cell_type": "code",
   "execution_count": 17,
   "metadata": {},
   "outputs": [],
   "source": [
    "class Person:\n",
    "    now = datetime.now()\n",
    "\n",
    "    def __init__(self, name, surname, dob):\n",
    "        self.name = name\n",
    "        self.surname = surname\n",
    "        self.dob = dob\n",
    "        \n",
    "    def age(self, current_year):\n",
    "        return current_year - self.dob\n",
    "        "
   ]
  },
  {
   "cell_type": "code",
   "execution_count": 18,
   "metadata": {},
   "outputs": [
    {
     "data": {
      "text/plain": [
       "'A'"
      ]
     },
     "execution_count": 18,
     "metadata": {},
     "output_type": "execute_result"
    }
   ],
   "source": [
    "s = Person('A', 'C', 1988)\n",
    "s.name"
   ]
  },
  {
   "cell_type": "code",
   "execution_count": 20,
   "metadata": {},
   "outputs": [
    {
     "data": {
      "text/plain": [
       "32"
      ]
     },
     "execution_count": 20,
     "metadata": {},
     "output_type": "execute_result"
    }
   ],
   "source": [
    "s.age(now.year)"
   ]
  },
  {
   "cell_type": "code",
   "execution_count": null,
   "metadata": {},
   "outputs": [],
   "source": []
  },
  {
   "cell_type": "code",
   "execution_count": 15,
   "metadata": {},
   "outputs": [
    {
     "name": "stdout",
     "output_type": "stream",
     "text": [
      "class A\n",
      "class B\n",
      "<class 'str'>\n"
     ]
    }
   ],
   "source": [
    "'''\n",
    "class Store:\n",
    "    Money = 5.00\n",
    "    Day = 1\n",
    "    \n",
    "    def __init__(self, storename, storecost, storecount, storeprofit):\n",
    "        self.store_name = storename\n",
    "        self.store_cost = storecost\n",
    "        self.store_count = storecount\n",
    "        self.store_profit = storeprofit\n",
    "                \n",
    "    def DisplayBalance(self, money):\n",
    "        return 'The current balance is ${}'.format(money)\n",
    "        \n",
    "    def NextDay(self):\n",
    "        Store.Day += 1\n",
    "        self.store_profit = (self.store_profit + Store.Day)\n",
    "        Store.Money += self.store_profit\n",
    "        \n",
    "        print(self.DisplayBalance(Store.Money))\n",
    "        \n",
    "'''\n",
    "\n",
    "\n",
    "#multiple inhertiance\n",
    "class A:\n",
    "    def __init__(self, x,y):\n",
    "        self.x = x\n",
    "        self.y = y\n",
    "        \n",
    "    def test(self):\n",
    "        print('class A')\n",
    "        \n",
    "        \n",
    "class B:\n",
    "    def __init__(self, a,b):\n",
    "        self.a = a\n",
    "        self.b = b\n",
    "        \n",
    "    def test(self):\n",
    "        print('class B')\n",
    "        \n",
    "class C(A, B):\n",
    "    obja = A('h','h')\n",
    "    objb = B('h',5)\n",
    "    \n",
    "    obja.test()\n",
    "    objb.test()\n",
    "    \n",
    "    print(type(objb.b.__str__()))"
   ]
  },
  {
   "cell_type": "code",
   "execution_count": null,
   "metadata": {},
   "outputs": [],
   "source": []
  },
  {
   "cell_type": "code",
   "execution_count": 5,
   "metadata": {},
   "outputs": [],
   "source": []
  },
  {
   "cell_type": "code",
   "execution_count": 7,
   "metadata": {},
   "outputs": [],
   "source": [
    "import sqlite3\n",
    "\n",
    "class Money:\n",
    "    def __init__(self):\n",
    "        self.money = 50.00\n",
    "        self.day = 1\n",
    "\n",
    "\n",
    "class Store(Money):\n",
    "       \n",
    "    def __init__(self, *args):\n",
    "        super(Store, self).__init__(*args)\n",
    "        self.balance = self.money\n",
    "        self.connection = sqlite3.connect('IdleTycoon.db')\n",
    "        #self.cur = self.connection.cursor()\n",
    "\n",
    "        \n",
    "    def create_store(self, storename, storecost, storeprofit):\n",
    "        print(\"\\n saving....\")\n",
    "        self.store_name = storename\n",
    "        self.store_cost = storecost\n",
    "        self.store_profit = storeprofit\n",
    "        \n",
    "        data = [(self.store_name), (self.store_cost), (self.store_profit), (self.balance)]\n",
    "        self.connection.execute('create table if not exists stores_info(store_name text, store_cost float, store_profit float, balance float)')\n",
    "        self.connection.execute(\"insert into stores_info values(?,?,?,?)\", data)\n",
    "        self.connection.commit()\n",
    "        print(\"Saved successfully...\\n\")\n",
    "      \n",
    "    \n",
    "    def Create_personal_record(self, name, cost):\n",
    "        remaining = self.balance - cost\n",
    "        \n",
    "        if remaining > 0:\n",
    "            self.balance = remaining\n",
    "            data = [name, cost, (self.balance)]\n",
    "            self.connection.execute('create table if not exists customer_record(store_name text, store_cost float, balance float)')\n",
    "            self.connection.execute(\"insert into customer_record values(?,?,?)\", data)\n",
    "            self.connection.commit()\n",
    "            \n",
    "        else:\n",
    "            print(\"Insufficient Balance: {}\".format(self.balance))\n",
    "            print(\"Required amount is ${} \".format(remaining))\n",
    "        \n",
    "        \n",
    "    def DisplayStores(self):\n",
    "        print(\"The cost and profit information for each store \\n\")\n",
    "        query = 'select * from stores_info'\n",
    "        results = self.connection.execute(query)\n",
    "        print(\"-------------------------------------------------------\")\n",
    "        print(\"Store Name \\t Store Cost \\t Store Profit\")\n",
    "        print(\"--------------------------------------------------------\")\n",
    "        for row in results:            \n",
    "            print(row[0] + '\\t\\t' + str(row[1]) + '\\t\\t' + str(row[2]))\n",
    "        print('\\n\\n')\n",
    "    \n",
    "    \n",
    "    def SelectStore(self):\n",
    "        while True:\n",
    "            print(\"1 for ice cream. 2 for lemon stand. 3 for book store. 0 to quit \\n\")\n",
    "            buy = int(input(\"which store you want to buy\"))\n",
    "            self.DisplayStores()\n",
    "            print(\"--------------\")\n",
    "            print(\"Total Balance is: {}\".format(self.balance))\n",
    "            print(\"----------------\")\n",
    "            \n",
    "            if buy != 0:\n",
    "                self.BuyStore(buy)\n",
    "            else:\n",
    "                break\n",
    "                \n",
    "    def BuyStore(self, buy):\n",
    "        #query = \"select * from stores_info where store_name == \"\n",
    "        if buy == 1:\n",
    "            ice_cream = \"select * from stores_info where store_name == 'ice cream'\"\n",
    "            results = self.connection.execute(ice_cream)\n",
    "            for i in results:\n",
    "                self.Create_personal_record(i[0], i[1])\n",
    "        if buy == 2:\n",
    "            lemon_stand = \"select * from stores_info where store_name == 'lemon stand'\"\n",
    "            results = self.connection.execute(lemon_stand)\n",
    "            for i in results:\n",
    "                self.Create_personal_record(i[0], i[1])\n",
    "        else:\n",
    "            book_store = \"select * from stores_info where store_name == 'book store'\"\n",
    "            results = self.connection.execute(book_store)\n",
    "            for i in results:\n",
    "                self.Create_personal_record(i[0], i[1])\n",
    "        \n",
    "        \n",
    "        \n",
    "        \n",
    "    def DisplayBalance(self):\n",
    "        print('The current balance is ${}'.format(self.store_profit))\n",
    "        \n",
    "    def NextDay(self):\n",
    "        self.balance = self.balance + self.store_profit\n",
    "        \n",
    "  \n",
    "    def update_database(self):\n",
    "        print(self.store_name)\n",
    "        data = [(self.store_name), (self.store_cost), (self.store_count), (self.store_profit), (self.balance)]\n",
    "        #self.connection.execute('create table if not exists stores_info(store_name text, store_cost float, \\\n",
    "        #store_count int, store_profit float, self.balance)')\n",
    "        #TypeError: function takes at most 2 arguments (5 given)\n",
    "        self.connection.execute(\"insert into stores_info values(?,?,?,?,?)\", data)\n",
    "        self.connection.commit()\n",
    "        \n",
    "    def close_database(self):\n",
    "        self.connection.close()\n",
    "\n",
    "        \n",
    "\n",
    "\n"
   ]
  },
  {
   "cell_type": "code",
   "execution_count": null,
   "metadata": {},
   "outputs": [],
   "source": [
    "if __init__==__min__():\n",
    "    "
   ]
  },
  {
   "cell_type": "code",
   "execution_count": 8,
   "metadata": {},
   "outputs": [],
   "source": [
    "s = Store()"
   ]
  },
  {
   "cell_type": "code",
   "execution_count": 109,
   "metadata": {},
   "outputs": [],
   "source": [
    "s.close_database()"
   ]
  },
  {
   "cell_type": "code",
   "execution_count": null,
   "metadata": {},
   "outputs": [],
   "source": []
  },
  {
   "cell_type": "code",
   "execution_count": 9,
   "metadata": {},
   "outputs": [
    {
     "name": "stdout",
     "output_type": "stream",
     "text": [
      "1 for ice cream. 2 for lemon stand. 3 for book store. 0 to quit \n",
      "\n",
      "which store you want to buy2\n",
      "The cost and profit information for each store \n",
      "\n",
      "-------------------------------------------------------\n",
      "Store Name \t Store Cost \t Store Profit\n",
      "--------------------------------------------------------\n",
      "ice cream\t\t2.0\t\t2.0\n",
      "lemon stand\t\t1.0\t\t1.0\n",
      "book store\t\t2.0\t\t1.0\n",
      "\n",
      "\n",
      "\n",
      "--------------\n",
      "50.0\n",
      "----------------\n",
      "1 for ice cream. 2 for lemon stand. 3 for book store. 0 to quit \n",
      "\n",
      "which store you want to buy1\n",
      "The cost and profit information for each store \n",
      "\n",
      "-------------------------------------------------------\n",
      "Store Name \t Store Cost \t Store Profit\n",
      "--------------------------------------------------------\n",
      "ice cream\t\t2.0\t\t2.0\n",
      "lemon stand\t\t1.0\t\t1.0\n",
      "book store\t\t2.0\t\t1.0\n",
      "\n",
      "\n",
      "\n",
      "--------------\n",
      "49.0\n",
      "----------------\n",
      "1 for ice cream. 2 for lemon stand. 3 for book store. 0 to quit \n",
      "\n",
      "which store you want to buy3\n",
      "The cost and profit information for each store \n",
      "\n",
      "-------------------------------------------------------\n",
      "Store Name \t Store Cost \t Store Profit\n",
      "--------------------------------------------------------\n",
      "ice cream\t\t2.0\t\t2.0\n",
      "lemon stand\t\t1.0\t\t1.0\n",
      "book store\t\t2.0\t\t1.0\n",
      "\n",
      "\n",
      "\n",
      "--------------\n",
      "45.0\n",
      "----------------\n",
      "1 for ice cream. 2 for lemon stand. 3 for book store. 0 to quit \n",
      "\n",
      "which store you want to buy2\n",
      "The cost and profit information for each store \n",
      "\n",
      "-------------------------------------------------------\n",
      "Store Name \t Store Cost \t Store Profit\n",
      "--------------------------------------------------------\n",
      "ice cream\t\t2.0\t\t2.0\n",
      "lemon stand\t\t1.0\t\t1.0\n",
      "book store\t\t2.0\t\t1.0\n",
      "\n",
      "\n",
      "\n",
      "--------------\n",
      "43.0\n",
      "----------------\n",
      "1 for ice cream. 2 for lemon stand. 3 for book store. 0 to quit \n",
      "\n",
      "which store you want to buy0\n",
      "The cost and profit information for each store \n",
      "\n",
      "-------------------------------------------------------\n",
      "Store Name \t Store Cost \t Store Profit\n",
      "--------------------------------------------------------\n",
      "ice cream\t\t2.0\t\t2.0\n",
      "lemon stand\t\t1.0\t\t1.0\n",
      "book store\t\t2.0\t\t1.0\n",
      "\n",
      "\n",
      "\n",
      "--------------\n",
      "42.0\n",
      "----------------\n"
     ]
    }
   ],
   "source": [
    "s.SelectStore()"
   ]
  },
  {
   "cell_type": "code",
   "execution_count": null,
   "metadata": {},
   "outputs": [],
   "source": []
  },
  {
   "cell_type": "code",
   "execution_count": 52,
   "metadata": {},
   "outputs": [
    {
     "name": "stdout",
     "output_type": "stream",
     "text": [
      "Enter the store name: book store\n",
      "Enter the store cost: 2\n",
      "Enter the store profit: 1\n",
      "saving....\n",
      "Saved successfully...\n",
      "----------------\n",
      "The cost and profit information for each store \n",
      "\n",
      "-------------------------------------------------------\n",
      "Store Name \t Store Cost \t Store Profit\n",
      "--------------------------------------------------------\n",
      "ice cream\t\t2.0\t\t2.0\n",
      "lemon stand\t\t1.0\t\t1.0\n",
      "book store\t\t2.0\t\t1.0\n",
      "command executed...\n"
     ]
    }
   ],
   "source": [
    "while True:\n",
    "    try: \n",
    "        name = input(\"Enter the store name: \")\n",
    "        cost = float(input(\"Enter the store cost: \"))\n",
    "        profit = float(input(\"Enter the store profit: \"))\n",
    "    except:\n",
    "        print(\"Name should be a string. Cost and profit are float values\")\n",
    "    else:\n",
    "        s.create_store(name, cost, profit)\n",
    "        print(\"----------------\")\n",
    "        s.DisplayStores()\n",
    "    finally:\n",
    "        print('command executed...')\n",
    "        break\n",
    "    "
   ]
  },
  {
   "cell_type": "code",
   "execution_count": 67,
   "metadata": {},
   "outputs": [],
   "source": [
    "db = sqlite3.connect('IdleTycoon.db')\n",
    "result = db.execute(\"select * from stores_info where store_name == 'ice cream'\")"
   ]
  },
  {
   "cell_type": "code",
   "execution_count": 68,
   "metadata": {},
   "outputs": [
    {
     "name": "stdout",
     "output_type": "stream",
     "text": [
      "('ice cream', 2.0, 2.0, 5.0)\n"
     ]
    }
   ],
   "source": [
    "for i in result:\n",
    "    print(i)"
   ]
  },
  {
   "cell_type": "code",
   "execution_count": 7,
   "metadata": {},
   "outputs": [
    {
     "name": "stdout",
     "output_type": "stream",
     "text": [
      "Enter 4\n",
      "5\n",
      "The current balance is $19\n",
      "Enter 4\n",
      "6\n",
      "The current balance is $25\n",
      "Enter 4\n",
      "7\n",
      "The current balance is $32\n",
      "Enter q\n",
      "ice cream\n"
     ]
    }
   ],
   "source": [
    "while True:\n",
    "    result = input('Enter ')\n",
    "    if result != 'q':\n",
    "        s.NextDay()\n",
    "    else:\n",
    "        s.update_database()\n",
    "        s.DisplayBalance()\n",
    "        break"
   ]
  },
  {
   "cell_type": "code",
   "execution_count": 8,
   "metadata": {},
   "outputs": [],
   "source": [
    "s.close_database()"
   ]
  },
  {
   "cell_type": "code",
   "execution_count": null,
   "metadata": {},
   "outputs": [],
   "source": []
  },
  {
   "cell_type": "code",
   "execution_count": null,
   "metadata": {},
   "outputs": [],
   "source": []
  },
  {
   "cell_type": "code",
   "execution_count": null,
   "metadata": {},
   "outputs": [],
   "source": []
  },
  {
   "cell_type": "code",
   "execution_count": null,
   "metadata": {},
   "outputs": [],
   "source": []
  },
  {
   "cell_type": "code",
   "execution_count": null,
   "metadata": {},
   "outputs": [],
   "source": []
  },
  {
   "cell_type": "code",
   "execution_count": null,
   "metadata": {},
   "outputs": [],
   "source": []
  },
  {
   "cell_type": "code",
   "execution_count": null,
   "metadata": {},
   "outputs": [],
   "source": []
  },
  {
   "cell_type": "code",
   "execution_count": null,
   "metadata": {},
   "outputs": [],
   "source": []
  }
 ],
 "metadata": {
  "kernelspec": {
   "display_name": "tensorflow",
   "language": "python",
   "name": "tensorflowproject"
  },
  "language_info": {
   "codemirror_mode": {
    "name": "ipython",
    "version": 3
   },
   "file_extension": ".py",
   "mimetype": "text/x-python",
   "name": "python",
   "nbconvert_exporter": "python",
   "pygments_lexer": "ipython3",
   "version": "3.5.6"
  }
 },
 "nbformat": 4,
 "nbformat_minor": 2
}
