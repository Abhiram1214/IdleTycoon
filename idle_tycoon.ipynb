{
 "cells": [
  {
   "cell_type": "code",
   "execution_count": null,
   "metadata": {},
   "outputs": [],
   "source": []
  },
  {
   "cell_type": "code",
   "execution_count": 11,
   "metadata": {},
   "outputs": [],
   "source": [
    "from datetime import datetime\n"
   ]
  },
  {
   "cell_type": "code",
   "execution_count": 17,
   "metadata": {},
   "outputs": [],
   "source": [
    "class Person:\n",
    "    now = datetime.now()\n",
    "\n",
    "    def __init__(self, name, surname, dob):\n",
    "        self.name = name\n",
    "        self.surname = surname\n",
    "        self.dob = dob\n",
    "        \n",
    "    def age(self, current_year):\n",
    "        return current_year - self.dob\n",
    "        "
   ]
  },
  {
   "cell_type": "code",
   "execution_count": 18,
   "metadata": {},
   "outputs": [
    {
     "data": {
      "text/plain": [
       "'A'"
      ]
     },
     "execution_count": 18,
     "metadata": {},
     "output_type": "execute_result"
    }
   ],
   "source": [
    "s = Person('A', 'C', 1988)\n",
    "s.name"
   ]
  },
  {
   "cell_type": "code",
   "execution_count": 20,
   "metadata": {},
   "outputs": [
    {
     "data": {
      "text/plain": [
       "32"
      ]
     },
     "execution_count": 20,
     "metadata": {},
     "output_type": "execute_result"
    }
   ],
   "source": [
    "s.age(now.year)"
   ]
  },
  {
   "cell_type": "code",
   "execution_count": null,
   "metadata": {},
   "outputs": [],
   "source": []
  },
  {
   "cell_type": "code",
   "execution_count": 15,
   "metadata": {},
   "outputs": [
    {
     "name": "stdout",
     "output_type": "stream",
     "text": [
      "class A\n",
      "class B\n",
      "<class 'str'>\n"
     ]
    }
   ],
   "source": [
    "'''\n",
    "class Store:\n",
    "    Money = 5.00\n",
    "    Day = 1\n",
    "    \n",
    "    def __init__(self, storename, storecost, storecount, storeprofit):\n",
    "        self.store_name = storename\n",
    "        self.store_cost = storecost\n",
    "        self.store_count = storecount\n",
    "        self.store_profit = storeprofit\n",
    "                \n",
    "    def DisplayBalance(self, money):\n",
    "        return 'The current balance is ${}'.format(money)\n",
    "        \n",
    "    def NextDay(self):\n",
    "        Store.Day += 1\n",
    "        self.store_profit = (self.store_profit + Store.Day)\n",
    "        Store.Money += self.store_profit\n",
    "        \n",
    "        print(self.DisplayBalance(Store.Money))\n",
    "        \n",
    "'''\n",
    "\n",
    "\n",
    "#multiple inhertiance\n",
    "class A:\n",
    "    def __init__(self, x,y):\n",
    "        self.x = x\n",
    "        self.y = y\n",
    "        \n",
    "    def test(self):\n",
    "        print('class A')\n",
    "        \n",
    "        \n",
    "class B:\n",
    "    def __init__(self, a,b):\n",
    "        self.a = a\n",
    "        self.b = b\n",
    "        \n",
    "    def test(self):\n",
    "        print('class B')\n",
    "        \n",
    "class C(A, B):\n",
    "    obja = A('h','h')\n",
    "    objb = B('h',5)\n",
    "    \n",
    "    obja.test()\n",
    "    objb.test()\n",
    "    \n",
    "    print(type(objb.b.__str__()))"
   ]
  },
  {
   "cell_type": "code",
   "execution_count": null,
   "metadata": {},
   "outputs": [],
   "source": []
  },
  {
   "cell_type": "code",
   "execution_count": null,
   "metadata": {},
   "outputs": [],
   "source": []
  },
  {
   "cell_type": "code",
   "execution_count": 45,
   "metadata": {},
   "outputs": [],
   "source": [
    "\n",
    "import sqlite3\n",
    "import pandas as pd\n",
    "\n",
    "class Money:\n",
    "    def __init__(self):\n",
    "        self.money = 50.00\n",
    "        self.day = 1\n",
    "\n",
    "\n",
    "class Store(Money):\n",
    "       \n",
    "    def __init__(self, *args):\n",
    "        super(Store, self).__init__(*args)\n",
    "        self.balance = self.money\n",
    "        self.connection = sqlite3.connect('IdleTycoon.db')\n",
    "        self.cur = self.connection.cursor()\n",
    "\n",
    "    \n",
    "    def DisplayBalance(self):\n",
    "        self.cur.execute(\"create table if not exists balance_info(current_balance float)\")\n",
    "        self.cur.execute(\"select current_balance from balance_info\")        \n",
    "        \n",
    "        result = self.cur.fetchone()\n",
    "        \n",
    "        if result:\n",
    "            return result[0]\n",
    "        else: \n",
    "            self.cur.execute(\"insert into balance_info values(?)\", (50.0, ))\n",
    "            self.SaveData()\n",
    "        \n",
    "        \n",
    "        \n",
    "    def UpdateBalance(self, current):\n",
    "            self.cur.execute(\"update balance_info set current_balance = ?\",(current, ))\n",
    "            self.SaveData()  \n",
    "            \n",
    "            self.cur.execute(select)\n",
    "            updated_balance = self.cur.fetchone()\n",
    "            return updated_balance[0]\n",
    "        \n",
    "        \n",
    "        \n",
    "    def create_store(self, storename, storecost, storeprofit):\n",
    "        print(\"\\n saving....\")\n",
    "        self.store_name = storename\n",
    "        self.store_cost = storecost\n",
    "        self.store_profit = storeprofit\n",
    "        \n",
    "        data = [(self.store_name), (self.store_cost), (self.store_profit), (self.balance)]\n",
    "        self.cur.execute('create table if not exists stores_info(store_name text, store_cost float, store_profit float, balance float)')\n",
    "        self.cur.execute(\"insert into stores_info values(?,?,?,?)\", data)\n",
    "        self.connection.commit()\n",
    "        print(\"Saved successfully...\\n\")\n",
    "      \n",
    "    \n",
    "    \n",
    "    def CreatePersonalRecord(self, name, cost):\n",
    "        balance = self.DisplayBalance()\n",
    "        remaining = balance - cost        \n",
    "        \n",
    "        self.cur.execute('create table if not exists customer_records(store_name text, store_cost float, store_count int)')\n",
    "        self.cur.execute(\"select store_name from customer_records where store_name == '%s'\" % name)\n",
    "        result = self.cur.fetchone()\n",
    "        \n",
    "        if remaining > 0:\n",
    "            \n",
    "            if result:\n",
    "                count = self.cur.execute(\"select store_count from customer_records where store_name == '%s'\" % name).fetchall()[0][0]\n",
    "                count += 1\n",
    "                update_query = (count, name)\n",
    "                self.cur.execute(\"update customer_records set store_count =? where store_name = ?\", update_query)\n",
    "                self.cur.execute(\"update balance_info set current_balance = ?\",(remaining, ))\n",
    "                self.connection.commit()\n",
    "            else:\n",
    "                data = [name, cost, 1]\n",
    "                self.cur.execute(\"insert into customer_records values(?,?,?)\", data)\n",
    "                self.connection.commit()\n",
    "\n",
    "    def DisplayCustomerRecords(self):\n",
    "        query = \"select * from customer_records\"\n",
    "        cursor = self.cur.execute(query)\n",
    "        show_records = pd.DataFrame(cursor, columns=[x[0] for x in cursor.description])\n",
    "        print(show_records)\n",
    "        \n",
    "    def DisplayStores(self):\n",
    "        print(\"The cost and profit information for each store \\n\")\n",
    "        query = 'select * from stores_info'\n",
    "        cursor = self.cur.execute(query)\n",
    "        show_stores = pd.DataFrame(cursor, columns=[x[0] for x in cursor.description])\n",
    "        print(show_stores)          \n",
    "    \n",
    "    \n",
    "    def SelectStore(self):\n",
    "        while True:\n",
    "            self.DisplayStores()\n",
    "            print(\"\\n\\n\")\n",
    "            options = \"1 for ice cream. 2 for lemon stand. 3 for book store. 0 to quit\"\n",
    "            print(options)\n",
    "            print(\"\\n\")\n",
    "            \n",
    "            print(\"--------------\")\n",
    "            print(\"Current Balance : {}\".format(self.DisplayBalance()))\n",
    "            print(\"----------------\")\n",
    "            \n",
    "            buy = int(input(\"which store you want to buy\"))\n",
    "            \n",
    "            if buy <= 3 and buy != 0:\n",
    "                self.SaveData()\n",
    "                self.BuyStore(buy)\n",
    "                \n",
    "            elif buy == 0:\n",
    "                print(\"Thank you....\")\n",
    "                print(\"\\n\\n\\n\")\n",
    "                \n",
    "                print(\"Your current account is: \\n\")\n",
    "                print(\"--\"*20)\n",
    "                self.DisplayCustomerRecords()\n",
    "                print(\"--\"*20)\n",
    "                print(\"\\n\")\n",
    "                print(\"Current Balance: {}\".format(self.DisplayBalance()))\n",
    "                break\n",
    "                \n",
    "            else:\n",
    "                print(\"\\n\\n\")\n",
    "                print(\"Not the right option\")\n",
    "                print(options)\n",
    "                break\n",
    "                \n",
    "                \n",
    "                \n",
    "    def BuyStore(self, buy):\n",
    "        #query = \"select * from stores_info where store_name == \"\n",
    "        if buy == 1:\n",
    "            ice_cream = \"select * from stores_info where store_name == 'ice cream'\"\n",
    "            results = self.cur.execute(ice_cream)\n",
    "            for i in results:\n",
    "                self.CreatePersonalRecord(i[0], i[1])\n",
    "        elif buy == 2:\n",
    "            lemon_stand = \"select * from stores_info where store_name == 'lemon stand'\"\n",
    "            results = self.cur.execute(lemon_stand)\n",
    "            for i in results:\n",
    "                self.CreatePersonalRecord(i[0], i[1])\n",
    "        elif buy == 3:\n",
    "            print(\"book store triggered...\")\n",
    "            book_store = \"select * from stores_info where store_name == 'book store'\"\n",
    "            results = self.cur.execute(book_store)\n",
    "            for i in results:\n",
    "                self.CreatePersonalRecord(i[0], i[1])        \n",
    "        else:\n",
    "            print(\"Not the right option\")\n",
    "    \n",
    "    \n",
    "    #def SellStore(self):\n",
    "        \n",
    "    \n",
    "    \n",
    "    \n",
    "    def NextDay(self):\n",
    "        self.balance = self.balance + self.store_profit\n",
    "        \n",
    "  \n",
    "    def UpdateDatabase(self):\n",
    "        print(self.store_name)\n",
    "        data = [(self.store_name), (self.store_cost), (self.store_count), (self.store_profit), (self.balance)]\n",
    "        self.cur.execute(\"insert into stores_info values(?,?,?,?,?)\", data)\n",
    "        self.connection.commit()\n",
    "    \n",
    "    def DropTable(self):\n",
    "        self.cur.execute(\"drop table customer_records\")\n",
    "        self.connection.commit()\n",
    "        \n",
    "        self.cur.execute('create table if not exists customer_records(store_name text, store_cost float, balance float, store_count int)')\n",
    "        self.cur.execute(\"insert into customer_records values('dummy', 0, 0, 0)\")\n",
    "        self.connection.commit()\n",
    "        \n",
    "    def CloseDatabase(self):\n",
    "        self.connection.close()\n",
    "\n",
    "        \n",
    "    def SaveData(self):\n",
    "        self.connection.commit()\n",
    "        print(\"data saved....\")\n",
    "        \n",
    "        \n",
    "    def NewStore(self):\n",
    "        while True:\n",
    "            try: \n",
    "                name = input(\"Enter the store name: \")\n",
    "                cost = float(input(\"Enter the store cost: \"))\n",
    "                profit = float(input(\"Enter the store profit: \"))\n",
    "            except:\n",
    "                print(\"Name should be a string. Cost and profit are float values\")\n",
    "            else:\n",
    "                s.create_store(name, cost, profit)\n",
    "                print(\"----------------\")\n",
    "                s.DisplayStores()\n",
    "            finally:\n",
    "                print('command executed...')\n",
    "                break\n",
    "\n"
   ]
  },
  {
   "cell_type": "code",
   "execution_count": null,
   "metadata": {},
   "outputs": [],
   "source": [
    "if __init__==__min__():\n",
    "    "
   ]
  },
  {
   "cell_type": "code",
   "execution_count": 47,
   "metadata": {},
   "outputs": [],
   "source": [
    "s = Store()"
   ]
  },
  {
   "cell_type": "code",
   "execution_count": 46,
   "metadata": {},
   "outputs": [
    {
     "data": {
      "text/plain": [
       "31.0"
      ]
     },
     "execution_count": 46,
     "metadata": {},
     "output_type": "execute_result"
    }
   ],
   "source": [
    "s.DisplayBalance()"
   ]
  },
  {
   "cell_type": "code",
   "execution_count": null,
   "metadata": {},
   "outputs": [],
   "source": []
  },
  {
   "cell_type": "code",
   "execution_count": 48,
   "metadata": {},
   "outputs": [
    {
     "name": "stdout",
     "output_type": "stream",
     "text": [
      "The cost and profit information for each store \n",
      "\n",
      "    store_name  store_cost  store_profit  balance\n",
      "0    ice cream         2.0           2.0      5.0\n",
      "1  lemon stand         1.0           1.0      5.0\n",
      "2   book store         2.0           1.0      5.0\n",
      "\n",
      "\n",
      "\n",
      "1 for ice cream. 2 for lemon stand. 3 for book store. 0 to quit\n",
      "\n",
      "\n",
      "--------------\n",
      "Current Balance : 31.0\n",
      "----------------\n",
      "which store you want to buy0\n",
      "Thank you....\n",
      "\n",
      "\n",
      "\n",
      "\n",
      "Your current account is: \n",
      "\n",
      "----------------------------------------\n",
      "    store_name  store_cost  store_count\n",
      "0    ice cream         2.0            8\n",
      "1  lemon stand         1.0            4\n",
      "2   book store         2.0            7\n",
      "----------------------------------------\n",
      "\n",
      "\n",
      "Current Balance: 31.0\n"
     ]
    }
   ],
   "source": [
    "s.SelectStore()"
   ]
  },
  {
   "cell_type": "code",
   "execution_count": null,
   "metadata": {},
   "outputs": [],
   "source": [
    "ALTER TABLE DROP COLUMN "
   ]
  },
  {
   "cell_type": "code",
   "execution_count": 31,
   "metadata": {},
   "outputs": [
    {
     "ename": "OperationalError",
     "evalue": "near \"customer_record\": syntax error",
     "output_type": "error",
     "traceback": [
      "\u001b[1;31m---------------------------------------------------------------------------\u001b[0m",
      "\u001b[1;31mOperationalError\u001b[0m                          Traceback (most recent call last)",
      "\u001b[1;32m<ipython-input-31-727f49349542>\u001b[0m in \u001b[0;36m<module>\u001b[1;34m()\u001b[0m\n\u001b[0;32m      1\u001b[0m \u001b[0mconn\u001b[0m \u001b[1;33m=\u001b[0m \u001b[0msqlite3\u001b[0m\u001b[1;33m.\u001b[0m\u001b[0mconnect\u001b[0m\u001b[1;33m(\u001b[0m\u001b[1;34m'IdleTycoon.db'\u001b[0m\u001b[1;33m)\u001b[0m\u001b[1;33m\u001b[0m\u001b[0m\n\u001b[1;32m----> 2\u001b[1;33m \u001b[0mconn\u001b[0m\u001b[1;33m.\u001b[0m\u001b[0mexecute\u001b[0m\u001b[1;33m(\u001b[0m\u001b[1;34m\"alter customer_record drop balance\"\u001b[0m\u001b[1;33m)\u001b[0m\u001b[1;33m\u001b[0m\u001b[0m\n\u001b[0m",
      "\u001b[1;31mOperationalError\u001b[0m: near \"customer_record\": syntax error"
     ]
    }
   ],
   "source": [
    "conn = sqlite3.connect('IdleTycoon.db')\n",
    "conn.execute(\"alter customer_record drop balance\")"
   ]
  },
  {
   "cell_type": "code",
   "execution_count": 33,
   "metadata": {},
   "outputs": [
    {
     "data": {
      "text/plain": [
       "<sqlite3.Cursor at 0x23434922f80>"
      ]
     },
     "execution_count": 33,
     "metadata": {},
     "output_type": "execute_result"
    }
   ],
   "source": [
    "conn.execute('create table if not exists customer_records(store_name text, store_cost float, store_count int)')"
   ]
  },
  {
   "cell_type": "code",
   "execution_count": 34,
   "metadata": {},
   "outputs": [],
   "source": [
    "conn.commit()"
   ]
  },
  {
   "cell_type": "code",
   "execution_count": 37,
   "metadata": {},
   "outputs": [],
   "source": [
    "result = conn.execute(\"select store_name, store_cost, store_count FROM customer_record\")\n"
   ]
  },
  {
   "cell_type": "code",
   "execution_count": 39,
   "metadata": {},
   "outputs": [
    {
     "name": "stdout",
     "output_type": "stream",
     "text": [
      "('ice cream', 2.0, 8)\n",
      "('lemon stand', 1.0, 4)\n",
      "('book store', 2.0, 7)\n"
     ]
    }
   ],
   "source": [
    "for i in result:\n",
    "    print(i)"
   ]
  },
  {
   "cell_type": "code",
   "execution_count": 41,
   "metadata": {},
   "outputs": [
    {
     "data": {
      "text/plain": [
       "<sqlite3.Cursor at 0x23434922dc0>"
      ]
     },
     "execution_count": 41,
     "metadata": {},
     "output_type": "execute_result"
    }
   ],
   "source": [
    "conn.execute(\"INSERT INTO customer_records SELECT store_name, store_cost, store_count FROM customer_record\")"
   ]
  },
  {
   "cell_type": "code",
   "execution_count": 43,
   "metadata": {},
   "outputs": [
    {
     "data": {
      "text/plain": [
       "<sqlite3.Cursor at 0x234349229d0>"
      ]
     },
     "execution_count": 43,
     "metadata": {},
     "output_type": "execute_result"
    }
   ],
   "source": [
    "conn.execute(\"alter table customer_recordss rename customer_records\")"
   ]
  },
  {
   "cell_type": "code",
   "execution_count": 44,
   "metadata": {},
   "outputs": [],
   "source": [
    "conn.commit()"
   ]
  },
  {
   "cell_type": "code",
   "execution_count": null,
   "metadata": {},
   "outputs": [],
   "source": []
  },
  {
   "cell_type": "code",
   "execution_count": null,
   "metadata": {},
   "outputs": [],
   "source": []
  },
  {
   "cell_type": "code",
   "execution_count": null,
   "metadata": {},
   "outputs": [],
   "source": []
  },
  {
   "cell_type": "code",
   "execution_count": null,
   "metadata": {},
   "outputs": [],
   "source": []
  },
  {
   "cell_type": "code",
   "execution_count": null,
   "metadata": {},
   "outputs": [],
   "source": []
  },
  {
   "cell_type": "code",
   "execution_count": null,
   "metadata": {},
   "outputs": [],
   "source": []
  },
  {
   "cell_type": "code",
   "execution_count": null,
   "metadata": {},
   "outputs": [],
   "source": []
  },
  {
   "cell_type": "code",
   "execution_count": null,
   "metadata": {},
   "outputs": [],
   "source": []
  },
  {
   "cell_type": "code",
   "execution_count": null,
   "metadata": {},
   "outputs": [],
   "source": []
  },
  {
   "cell_type": "code",
   "execution_count": null,
   "metadata": {},
   "outputs": [],
   "source": []
  },
  {
   "cell_type": "code",
   "execution_count": null,
   "metadata": {},
   "outputs": [],
   "source": []
  }
 ],
 "metadata": {
  "kernelspec": {
   "display_name": "tensorflow",
   "language": "python",
   "name": "tensorflowproject"
  },
  "language_info": {
   "codemirror_mode": {
    "name": "ipython",
    "version": 3
   },
   "file_extension": ".py",
   "mimetype": "text/x-python",
   "name": "python",
   "nbconvert_exporter": "python",
   "pygments_lexer": "ipython3",
   "version": "3.5.6"
  }
 },
 "nbformat": 4,
 "nbformat_minor": 2
}
